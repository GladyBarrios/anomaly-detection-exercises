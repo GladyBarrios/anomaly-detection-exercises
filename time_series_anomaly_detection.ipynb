{
 "cells": [
  {
   "cell_type": "code",
   "execution_count": 1,
   "id": "0915bead",
   "metadata": {},
   "outputs": [],
   "source": [
    "import warnings\n",
    "warnings.filterwarnings(\"ignore\")\n",
    "import matplotlib.pyplot as plt\n",
    "\n",
    "import numpy as np\n",
    "import pandas as pd\n",
    "import seaborn as sns\n",
    "import env"
   ]
  },
  {
   "cell_type": "code",
   "execution_count": 2,
   "id": "2fb77f87",
   "metadata": {},
   "outputs": [
    {
     "data": {
      "text/html": [
       "<div>\n",
       "<style scoped>\n",
       "    .dataframe tbody tr th:only-of-type {\n",
       "        vertical-align: middle;\n",
       "    }\n",
       "\n",
       "    .dataframe tbody tr th {\n",
       "        vertical-align: top;\n",
       "    }\n",
       "\n",
       "    .dataframe thead th {\n",
       "        text-align: right;\n",
       "    }\n",
       "</style>\n",
       "<table border=\"1\" class=\"dataframe\">\n",
       "  <thead>\n",
       "    <tr style=\"text-align: right;\">\n",
       "      <th></th>\n",
       "      <th>id</th>\n",
       "      <th>name</th>\n",
       "      <th>start_date</th>\n",
       "      <th>end_date</th>\n",
       "      <th>program_id</th>\n",
       "      <th>date</th>\n",
       "      <th>time</th>\n",
       "      <th>path</th>\n",
       "      <th>user_id</th>\n",
       "      <th>cohort_id</th>\n",
       "      <th>ip</th>\n",
       "      <th>created_at</th>\n",
       "      <th>updated_at</th>\n",
       "    </tr>\n",
       "  </thead>\n",
       "  <tbody>\n",
       "    <tr>\n",
       "      <th>0</th>\n",
       "      <td>8</td>\n",
       "      <td>Hampton</td>\n",
       "      <td>2015-09-22</td>\n",
       "      <td>2016-02-06</td>\n",
       "      <td>1</td>\n",
       "      <td>2018-01-26</td>\n",
       "      <td>09:55:03</td>\n",
       "      <td>/</td>\n",
       "      <td>1</td>\n",
       "      <td>8.0</td>\n",
       "      <td>97.105.19.61</td>\n",
       "      <td>2016-06-14 19:52:26</td>\n",
       "      <td>2016-06-14 19:52:26</td>\n",
       "    </tr>\n",
       "    <tr>\n",
       "      <th>1</th>\n",
       "      <td>8</td>\n",
       "      <td>Hampton</td>\n",
       "      <td>2015-09-22</td>\n",
       "      <td>2016-02-06</td>\n",
       "      <td>1</td>\n",
       "      <td>2018-01-26</td>\n",
       "      <td>09:56:02</td>\n",
       "      <td>java-ii</td>\n",
       "      <td>1</td>\n",
       "      <td>8.0</td>\n",
       "      <td>97.105.19.61</td>\n",
       "      <td>2016-06-14 19:52:26</td>\n",
       "      <td>2016-06-14 19:52:26</td>\n",
       "    </tr>\n",
       "    <tr>\n",
       "      <th>2</th>\n",
       "      <td>8</td>\n",
       "      <td>Hampton</td>\n",
       "      <td>2015-09-22</td>\n",
       "      <td>2016-02-06</td>\n",
       "      <td>1</td>\n",
       "      <td>2018-01-26</td>\n",
       "      <td>09:56:05</td>\n",
       "      <td>java-ii/object-oriented-programming</td>\n",
       "      <td>1</td>\n",
       "      <td>8.0</td>\n",
       "      <td>97.105.19.61</td>\n",
       "      <td>2016-06-14 19:52:26</td>\n",
       "      <td>2016-06-14 19:52:26</td>\n",
       "    </tr>\n",
       "    <tr>\n",
       "      <th>3</th>\n",
       "      <td>8</td>\n",
       "      <td>Hampton</td>\n",
       "      <td>2015-09-22</td>\n",
       "      <td>2016-02-06</td>\n",
       "      <td>1</td>\n",
       "      <td>2018-01-26</td>\n",
       "      <td>09:56:06</td>\n",
       "      <td>slides/object_oriented_programming</td>\n",
       "      <td>1</td>\n",
       "      <td>8.0</td>\n",
       "      <td>97.105.19.61</td>\n",
       "      <td>2016-06-14 19:52:26</td>\n",
       "      <td>2016-06-14 19:52:26</td>\n",
       "    </tr>\n",
       "    <tr>\n",
       "      <th>4</th>\n",
       "      <td>22</td>\n",
       "      <td>Teddy</td>\n",
       "      <td>2018-01-08</td>\n",
       "      <td>2018-05-17</td>\n",
       "      <td>2</td>\n",
       "      <td>2018-01-26</td>\n",
       "      <td>09:56:24</td>\n",
       "      <td>javascript-i/conditionals</td>\n",
       "      <td>2</td>\n",
       "      <td>22.0</td>\n",
       "      <td>97.105.19.61</td>\n",
       "      <td>2018-01-08 13:59:10</td>\n",
       "      <td>2018-01-08 13:59:10</td>\n",
       "    </tr>\n",
       "  </tbody>\n",
       "</table>\n",
       "</div>"
      ],
      "text/plain": [
       "   id     name  start_date    end_date  program_id        date      time  \\\n",
       "0   8  Hampton  2015-09-22  2016-02-06           1  2018-01-26  09:55:03   \n",
       "1   8  Hampton  2015-09-22  2016-02-06           1  2018-01-26  09:56:02   \n",
       "2   8  Hampton  2015-09-22  2016-02-06           1  2018-01-26  09:56:05   \n",
       "3   8  Hampton  2015-09-22  2016-02-06           1  2018-01-26  09:56:06   \n",
       "4  22    Teddy  2018-01-08  2018-05-17           2  2018-01-26  09:56:24   \n",
       "\n",
       "                                  path  user_id  cohort_id            ip  \\\n",
       "0                                    /        1        8.0  97.105.19.61   \n",
       "1                              java-ii        1        8.0  97.105.19.61   \n",
       "2  java-ii/object-oriented-programming        1        8.0  97.105.19.61   \n",
       "3   slides/object_oriented_programming        1        8.0  97.105.19.61   \n",
       "4            javascript-i/conditionals        2       22.0  97.105.19.61   \n",
       "\n",
       "            created_at           updated_at  \n",
       "0  2016-06-14 19:52:26  2016-06-14 19:52:26  \n",
       "1  2016-06-14 19:52:26  2016-06-14 19:52:26  \n",
       "2  2016-06-14 19:52:26  2016-06-14 19:52:26  \n",
       "3  2016-06-14 19:52:26  2016-06-14 19:52:26  \n",
       "4  2018-01-08 13:59:10  2018-01-08 13:59:10  "
      ]
     },
     "execution_count": 2,
     "metadata": {},
     "output_type": "execute_result"
    }
   ],
   "source": [
    "url = f'mysql+pymysql://{env.user}:{env.password}@{env.host}/curriculum_logs'\n",
    "query = '''\n",
    "SELECT id, name, start_date, end_date, program_id, date, time, path, user_id, cohort_id, ip, created_at, updated_at\n",
    "From cohorts as c \n",
    "join logs as l on c.id = l.cohort_id;\n",
    "'''\n",
    "df = pd.read_sql(query, url)\n",
    "df.head()"
   ]
  },
  {
   "cell_type": "markdown",
   "id": "ea261a8f",
   "metadata": {},
   "source": [
    "### Label students by the program they are in."
   ]
  },
  {
   "cell_type": "code",
   "execution_count": 7,
   "id": "91d69e29",
   "metadata": {},
   "outputs": [
    {
     "data": {
      "text/plain": [
       "/                                                               45854\n",
       "javascript-i                                                    18203\n",
       "toc                                                             17591\n",
       "search/search_index.json                                        17534\n",
       "java-iii                                                        13166\n",
       "                                                                ...  \n",
       "content/examples/javascript/primitive-types.html                    1\n",
       "content/examples/javascript/conditionals.html                       1\n",
       "2-storytelling/1-overview/www.qlik.com                              1\n",
       "syntax-types-and-variables                                          1\n",
       "appendix/professional-development/post-interview-review-form        1\n",
       "Name: path, Length: 2224, dtype: int64"
      ]
     },
     "execution_count": 7,
     "metadata": {},
     "output_type": "execute_result"
    }
   ],
   "source": [
    "df.path.value_counts()"
   ]
  },
  {
   "cell_type": "code",
   "execution_count": 4,
   "id": "af851a94",
   "metadata": {
    "scrolled": false
   },
   "outputs": [
    {
     "data": {
      "text/plain": [
       "Staff         84031\n",
       "Ceres         40730\n",
       "Zion          38096\n",
       "Jupiter       37109\n",
       "Fortuna       36902\n",
       "Voyageurs     35636\n",
       "Ganymede      33844\n",
       "Apex          33568\n",
       "Deimos        32888\n",
       "Darden        32015\n",
       "Teddy         30926\n",
       "Hyperion      29855\n",
       "Betelgeuse    29356\n",
       "Ulysses       28534\n",
       "Europa        28033\n",
       "Xanadu        27749\n",
       "Bayes         26538\n",
       "Wrangell      25586\n",
       "Andromeda     25359\n",
       "Kalypso       23691\n",
       "Curie         21582\n",
       "Yosemite      20743\n",
       "Bash          17713\n",
       "Luna          16623\n",
       "Marco         16397\n",
       "Easley        14715\n",
       "Lassen         9587\n",
       "Arches         8890\n",
       "Florence       8562\n",
       "Sequoia        7444\n",
       "Neptune        7276\n",
       "Olympic        4954\n",
       "Kings          2845\n",
       "Pinnacles      2158\n",
       "Hampton        1712\n",
       "Oberon         1672\n",
       "Quincy         1237\n",
       "Niagara         755\n",
       "Mammoth         691\n",
       "Glacier         598\n",
       "Joshua          302\n",
       "Ike             253\n",
       "Badlands         93\n",
       "Franklin         72\n",
       "Apollo            5\n",
       "Denali            4\n",
       "Everglades        1\n",
       "Name: name, dtype: int64"
      ]
     },
     "execution_count": 4,
     "metadata": {},
     "output_type": "execute_result"
    }
   ],
   "source": [
    "df.name.value_counts()"
   ]
  },
  {
   "cell_type": "code",
   "execution_count": 38,
   "id": "abcadf0d",
   "metadata": {},
   "outputs": [
    {
     "data": {
      "text/plain": [
       "<AxesSubplot:xlabel='date'>"
      ]
     },
     "execution_count": 38,
     "metadata": {},
     "output_type": "execute_result"
    },
    {
     "data": {
      "image/png": "[encoded data removed]",
      "text/plain": [
       "<Figure size 432x288 with 1 Axes>"
      ]
     },
     "metadata": {
      "needs_background": "light"
     },
     "output_type": "display_data"
    }
   ],
   "source": []
  },
  {
   "cell_type": "markdown",
   "id": "2c3ac37b",
   "metadata": {},
   "source": [
    "### Is it possible to identify the user_id of a staff member?"
   ]
  },
  {
   "cell_type": "code",
   "execution_count": 8,
   "id": "6b1109ec",
   "metadata": {},
   "outputs": [],
   "source": [
    "# Ste date column as datetime dtype and then sset as index \n",
    "df.date = pd.to_datetime(df.date)\n",
    "df = df.set_index(df.date)"
   ]
  },
  {
   "cell_type": "code",
   "execution_count": 9,
   "id": "18880dbf",
   "metadata": {},
   "outputs": [
    {
     "name": "stdout",
     "output_type": "stream",
     "text": [
      "<class 'pandas.core.frame.DataFrame'>\n",
      "DatetimeIndex: 847330 entries, 2018-01-26 to 2021-04-21\n",
      "Data columns (total 13 columns):\n",
      " #   Column      Non-Null Count   Dtype         \n",
      "---  ------      --------------   -----         \n",
      " 0   id          847330 non-null  int64         \n",
      " 1   name        847330 non-null  object        \n",
      " 2   start_date  847330 non-null  object        \n",
      " 3   end_date    847330 non-null  object        \n",
      " 4   program_id  847330 non-null  int64         \n",
      " 5   date        847330 non-null  datetime64[ns]\n",
      " 6   time        847330 non-null  object        \n",
      " 7   path        847329 non-null  object        \n",
      " 8   user_id     847330 non-null  int64         \n",
      " 9   cohort_id   847330 non-null  float64       \n",
      " 10  ip          847330 non-null  object        \n",
      " 11  created_at  847330 non-null  object        \n",
      " 12  updated_at  847330 non-null  object        \n",
      "dtypes: datetime64[ns](1), float64(1), int64(3), object(8)\n",
      "memory usage: 90.5+ MB\n"
     ]
    }
   ],
   "source": [
    "df.info()\n"
   ]
  },
  {
   "cell_type": "code",
   "execution_count": 11,
   "id": "d5cd844a",
   "metadata": {},
   "outputs": [
    {
     "data": {
      "text/plain": [
       "date\n",
       "2018-01-26    533\n",
       "2018-01-27    230\n",
       "2018-01-28    168\n",
       "2018-01-29    783\n",
       "2018-01-30    614\n",
       "Freq: D, Name: path, dtype: int64"
      ]
     },
     "execution_count": 11,
     "metadata": {},
     "output_type": "execute_result"
    }
   ],
   "source": [
    "pages = df['path'].resample('d').count()\n",
    "pages.head()"
   ]
  },
  {
   "cell_type": "code",
   "execution_count": 12,
   "id": "2831343c",
   "metadata": {},
   "outputs": [
    {
     "data": {
      "text/plain": [
       "<AxesSubplot:xlabel='date'>"
      ]
     },
     "execution_count": 12,
     "metadata": {},
     "output_type": "execute_result"
    },
    {
     "data": {
      "image/png": "[encoded data removed]",
      "text/plain": [
       "<Figure size 432x288 with 1 Axes>"
      ]
     },
     "metadata": {
      "needs_background": "light"
     },
     "output_type": "display_data"
    }
   ],
   "source": [
    "pages.plot()"
   ]
  },
  {
   "cell_type": "code",
   "execution_count": null,
   "id": "1f68238f",
   "metadata": {},
   "outputs": [],
   "source": []
  },
  {
   "cell_type": "markdown",
   "id": "11be3f05",
   "metadata": {},
   "source": [
    "### Identify students who are accessing our curriculum pages beyond the end of their time at Codeup."
   ]
  },
  {
   "cell_type": "code",
   "execution_count": 31,
   "id": "db935333",
   "metadata": {},
   "outputs": [],
   "source": [
    "df[\"month\"] = df.index.month_name()"
   ]
  },
  {
   "cell_type": "code",
   "execution_count": 32,
   "id": "b02dac5d",
   "metadata": {
    "scrolled": false
   },
   "outputs": [
    {
     "data": {
      "text/html": [
       "<div>\n",
       "<style scoped>\n",
       "    .dataframe tbody tr th:only-of-type {\n",
       "        vertical-align: middle;\n",
       "    }\n",
       "\n",
       "    .dataframe tbody tr th {\n",
       "        vertical-align: top;\n",
       "    }\n",
       "\n",
       "    .dataframe thead th {\n",
       "        text-align: right;\n",
       "    }\n",
       "</style>\n",
       "<table border=\"1\" class=\"dataframe\">\n",
       "  <thead>\n",
       "    <tr style=\"text-align: right;\">\n",
       "      <th></th>\n",
       "      <th>id</th>\n",
       "      <th>name</th>\n",
       "      <th>start_date</th>\n",
       "      <th>end_date</th>\n",
       "      <th>program_id</th>\n",
       "      <th>date</th>\n",
       "      <th>time</th>\n",
       "      <th>path</th>\n",
       "      <th>user_id</th>\n",
       "      <th>cohort_id</th>\n",
       "      <th>ip</th>\n",
       "      <th>created_at</th>\n",
       "      <th>updated_at</th>\n",
       "      <th>month</th>\n",
       "    </tr>\n",
       "    <tr>\n",
       "      <th>date</th>\n",
       "      <th></th>\n",
       "      <th></th>\n",
       "      <th></th>\n",
       "      <th></th>\n",
       "      <th></th>\n",
       "      <th></th>\n",
       "      <th></th>\n",
       "      <th></th>\n",
       "      <th></th>\n",
       "      <th></th>\n",
       "      <th></th>\n",
       "      <th></th>\n",
       "      <th></th>\n",
       "      <th></th>\n",
       "    </tr>\n",
       "  </thead>\n",
       "  <tbody>\n",
       "    <tr>\n",
       "      <th>2018-01-26</th>\n",
       "      <td>8</td>\n",
       "      <td>Hampton</td>\n",
       "      <td>2015-09-22</td>\n",
       "      <td>2016-02-06</td>\n",
       "      <td>1</td>\n",
       "      <td>2018-01-26</td>\n",
       "      <td>09:55:03</td>\n",
       "      <td>/</td>\n",
       "      <td>1</td>\n",
       "      <td>8.0</td>\n",
       "      <td>97.105.19.61</td>\n",
       "      <td>2016-06-14 19:52:26</td>\n",
       "      <td>2016-06-14 19:52:26</td>\n",
       "      <td>January</td>\n",
       "    </tr>\n",
       "    <tr>\n",
       "      <th>2018-01-26</th>\n",
       "      <td>8</td>\n",
       "      <td>Hampton</td>\n",
       "      <td>2015-09-22</td>\n",
       "      <td>2016-02-06</td>\n",
       "      <td>1</td>\n",
       "      <td>2018-01-26</td>\n",
       "      <td>09:56:02</td>\n",
       "      <td>java-ii</td>\n",
       "      <td>1</td>\n",
       "      <td>8.0</td>\n",
       "      <td>97.105.19.61</td>\n",
       "      <td>2016-06-14 19:52:26</td>\n",
       "      <td>2016-06-14 19:52:26</td>\n",
       "      <td>January</td>\n",
       "    </tr>\n",
       "    <tr>\n",
       "      <th>2018-01-26</th>\n",
       "      <td>8</td>\n",
       "      <td>Hampton</td>\n",
       "      <td>2015-09-22</td>\n",
       "      <td>2016-02-06</td>\n",
       "      <td>1</td>\n",
       "      <td>2018-01-26</td>\n",
       "      <td>09:56:05</td>\n",
       "      <td>java-ii/object-oriented-programming</td>\n",
       "      <td>1</td>\n",
       "      <td>8.0</td>\n",
       "      <td>97.105.19.61</td>\n",
       "      <td>2016-06-14 19:52:26</td>\n",
       "      <td>2016-06-14 19:52:26</td>\n",
       "      <td>January</td>\n",
       "    </tr>\n",
       "    <tr>\n",
       "      <th>2018-01-26</th>\n",
       "      <td>8</td>\n",
       "      <td>Hampton</td>\n",
       "      <td>2015-09-22</td>\n",
       "      <td>2016-02-06</td>\n",
       "      <td>1</td>\n",
       "      <td>2018-01-26</td>\n",
       "      <td>09:56:06</td>\n",
       "      <td>slides/object_oriented_programming</td>\n",
       "      <td>1</td>\n",
       "      <td>8.0</td>\n",
       "      <td>97.105.19.61</td>\n",
       "      <td>2016-06-14 19:52:26</td>\n",
       "      <td>2016-06-14 19:52:26</td>\n",
       "      <td>January</td>\n",
       "    </tr>\n",
       "    <tr>\n",
       "      <th>2018-01-26</th>\n",
       "      <td>22</td>\n",
       "      <td>Teddy</td>\n",
       "      <td>2018-01-08</td>\n",
       "      <td>2018-05-17</td>\n",
       "      <td>2</td>\n",
       "      <td>2018-01-26</td>\n",
       "      <td>09:56:24</td>\n",
       "      <td>javascript-i/conditionals</td>\n",
       "      <td>2</td>\n",
       "      <td>22.0</td>\n",
       "      <td>97.105.19.61</td>\n",
       "      <td>2018-01-08 13:59:10</td>\n",
       "      <td>2018-01-08 13:59:10</td>\n",
       "      <td>January</td>\n",
       "    </tr>\n",
       "  </tbody>\n",
       "</table>\n",
       "</div>"
      ],
      "text/plain": [
       "            id     name  start_date    end_date  program_id       date  \\\n",
       "date                                                                     \n",
       "2018-01-26   8  Hampton  2015-09-22  2016-02-06           1 2018-01-26   \n",
       "2018-01-26   8  Hampton  2015-09-22  2016-02-06           1 2018-01-26   \n",
       "2018-01-26   8  Hampton  2015-09-22  2016-02-06           1 2018-01-26   \n",
       "2018-01-26   8  Hampton  2015-09-22  2016-02-06           1 2018-01-26   \n",
       "2018-01-26  22    Teddy  2018-01-08  2018-05-17           2 2018-01-26   \n",
       "\n",
       "                time                                 path  user_id  cohort_id  \\\n",
       "date                                                                            \n",
       "2018-01-26  09:55:03                                    /        1        8.0   \n",
       "2018-01-26  09:56:02                              java-ii        1        8.0   \n",
       "2018-01-26  09:56:05  java-ii/object-oriented-programming        1        8.0   \n",
       "2018-01-26  09:56:06   slides/object_oriented_programming        1        8.0   \n",
       "2018-01-26  09:56:24            javascript-i/conditionals        2       22.0   \n",
       "\n",
       "                      ip           created_at           updated_at    month  \n",
       "date                                                                         \n",
       "2018-01-26  97.105.19.61  2016-06-14 19:52:26  2016-06-14 19:52:26  January  \n",
       "2018-01-26  97.105.19.61  2016-06-14 19:52:26  2016-06-14 19:52:26  January  \n",
       "2018-01-26  97.105.19.61  2016-06-14 19:52:26  2016-06-14 19:52:26  January  \n",
       "2018-01-26  97.105.19.61  2016-06-14 19:52:26  2016-06-14 19:52:26  January  \n",
       "2018-01-26  97.105.19.61  2018-01-08 13:59:10  2018-01-08 13:59:10  January  "
      ]
     },
     "execution_count": 32,
     "metadata": {},
     "output_type": "execute_result"
    }
   ],
   "source": [
    "df.head()"
   ]
  },
  {
   "cell_type": "code",
   "execution_count": 33,
   "id": "6e58ca9f",
   "metadata": {},
   "outputs": [],
   "source": [
    "df.start_date = pd.to_datetime(df.start_date)"
   ]
  },
  {
   "cell_type": "code",
   "execution_count": 34,
   "id": "00d6ebf9",
   "metadata": {},
   "outputs": [
    {
     "data": {
      "text/html": [
       "<div>\n",
       "<style scoped>\n",
       "    .dataframe tbody tr th:only-of-type {\n",
       "        vertical-align: middle;\n",
       "    }\n",
       "\n",
       "    .dataframe tbody tr th {\n",
       "        vertical-align: top;\n",
       "    }\n",
       "\n",
       "    .dataframe thead th {\n",
       "        text-align: right;\n",
       "    }\n",
       "</style>\n",
       "<table border=\"1\" class=\"dataframe\">\n",
       "  <thead>\n",
       "    <tr style=\"text-align: right;\">\n",
       "      <th></th>\n",
       "      <th>id</th>\n",
       "      <th>name</th>\n",
       "      <th>start_date</th>\n",
       "      <th>end_date</th>\n",
       "      <th>program_id</th>\n",
       "      <th>date</th>\n",
       "      <th>time</th>\n",
       "      <th>path</th>\n",
       "      <th>user_id</th>\n",
       "      <th>cohort_id</th>\n",
       "      <th>ip</th>\n",
       "      <th>created_at</th>\n",
       "      <th>updated_at</th>\n",
       "      <th>month</th>\n",
       "    </tr>\n",
       "    <tr>\n",
       "      <th>date</th>\n",
       "      <th></th>\n",
       "      <th></th>\n",
       "      <th></th>\n",
       "      <th></th>\n",
       "      <th></th>\n",
       "      <th></th>\n",
       "      <th></th>\n",
       "      <th></th>\n",
       "      <th></th>\n",
       "      <th></th>\n",
       "      <th></th>\n",
       "      <th></th>\n",
       "      <th></th>\n",
       "      <th></th>\n",
       "    </tr>\n",
       "  </thead>\n",
       "  <tbody>\n",
       "    <tr>\n",
       "      <th>2018-01-26</th>\n",
       "      <td>8</td>\n",
       "      <td>Hampton</td>\n",
       "      <td>2015-09-22</td>\n",
       "      <td>2016-02-06</td>\n",
       "      <td>1</td>\n",
       "      <td>2018-01-26</td>\n",
       "      <td>09:55:03</td>\n",
       "      <td>/</td>\n",
       "      <td>1</td>\n",
       "      <td>8.0</td>\n",
       "      <td>97.105.19.61</td>\n",
       "      <td>2016-06-14 19:52:26</td>\n",
       "      <td>2016-06-14 19:52:26</td>\n",
       "      <td>January</td>\n",
       "    </tr>\n",
       "    <tr>\n",
       "      <th>2018-01-26</th>\n",
       "      <td>8</td>\n",
       "      <td>Hampton</td>\n",
       "      <td>2015-09-22</td>\n",
       "      <td>2016-02-06</td>\n",
       "      <td>1</td>\n",
       "      <td>2018-01-26</td>\n",
       "      <td>09:56:02</td>\n",
       "      <td>java-ii</td>\n",
       "      <td>1</td>\n",
       "      <td>8.0</td>\n",
       "      <td>97.105.19.61</td>\n",
       "      <td>2016-06-14 19:52:26</td>\n",
       "      <td>2016-06-14 19:52:26</td>\n",
       "      <td>January</td>\n",
       "    </tr>\n",
       "    <tr>\n",
       "      <th>2018-01-26</th>\n",
       "      <td>8</td>\n",
       "      <td>Hampton</td>\n",
       "      <td>2015-09-22</td>\n",
       "      <td>2016-02-06</td>\n",
       "      <td>1</td>\n",
       "      <td>2018-01-26</td>\n",
       "      <td>09:56:05</td>\n",
       "      <td>java-ii/object-oriented-programming</td>\n",
       "      <td>1</td>\n",
       "      <td>8.0</td>\n",
       "      <td>97.105.19.61</td>\n",
       "      <td>2016-06-14 19:52:26</td>\n",
       "      <td>2016-06-14 19:52:26</td>\n",
       "      <td>January</td>\n",
       "    </tr>\n",
       "    <tr>\n",
       "      <th>2018-01-26</th>\n",
       "      <td>8</td>\n",
       "      <td>Hampton</td>\n",
       "      <td>2015-09-22</td>\n",
       "      <td>2016-02-06</td>\n",
       "      <td>1</td>\n",
       "      <td>2018-01-26</td>\n",
       "      <td>09:56:06</td>\n",
       "      <td>slides/object_oriented_programming</td>\n",
       "      <td>1</td>\n",
       "      <td>8.0</td>\n",
       "      <td>97.105.19.61</td>\n",
       "      <td>2016-06-14 19:52:26</td>\n",
       "      <td>2016-06-14 19:52:26</td>\n",
       "      <td>January</td>\n",
       "    </tr>\n",
       "    <tr>\n",
       "      <th>2018-01-26</th>\n",
       "      <td>22</td>\n",
       "      <td>Teddy</td>\n",
       "      <td>2018-01-08</td>\n",
       "      <td>2018-05-17</td>\n",
       "      <td>2</td>\n",
       "      <td>2018-01-26</td>\n",
       "      <td>09:56:24</td>\n",
       "      <td>javascript-i/conditionals</td>\n",
       "      <td>2</td>\n",
       "      <td>22.0</td>\n",
       "      <td>97.105.19.61</td>\n",
       "      <td>2018-01-08 13:59:10</td>\n",
       "      <td>2018-01-08 13:59:10</td>\n",
       "      <td>January</td>\n",
       "    </tr>\n",
       "  </tbody>\n",
       "</table>\n",
       "</div>"
      ],
      "text/plain": [
       "            id     name start_date    end_date  program_id       date  \\\n",
       "date                                                                    \n",
       "2018-01-26   8  Hampton 2015-09-22  2016-02-06           1 2018-01-26   \n",
       "2018-01-26   8  Hampton 2015-09-22  2016-02-06           1 2018-01-26   \n",
       "2018-01-26   8  Hampton 2015-09-22  2016-02-06           1 2018-01-26   \n",
       "2018-01-26   8  Hampton 2015-09-22  2016-02-06           1 2018-01-26   \n",
       "2018-01-26  22    Teddy 2018-01-08  2018-05-17           2 2018-01-26   \n",
       "\n",
       "                time                                 path  user_id  cohort_id  \\\n",
       "date                                                                            \n",
       "2018-01-26  09:55:03                                    /        1        8.0   \n",
       "2018-01-26  09:56:02                              java-ii        1        8.0   \n",
       "2018-01-26  09:56:05  java-ii/object-oriented-programming        1        8.0   \n",
       "2018-01-26  09:56:06   slides/object_oriented_programming        1        8.0   \n",
       "2018-01-26  09:56:24            javascript-i/conditionals        2       22.0   \n",
       "\n",
       "                      ip           created_at           updated_at    month  \n",
       "date                                                                         \n",
       "2018-01-26  97.105.19.61  2016-06-14 19:52:26  2016-06-14 19:52:26  January  \n",
       "2018-01-26  97.105.19.61  2016-06-14 19:52:26  2016-06-14 19:52:26  January  \n",
       "2018-01-26  97.105.19.61  2016-06-14 19:52:26  2016-06-14 19:52:26  January  \n",
       "2018-01-26  97.105.19.61  2016-06-14 19:52:26  2016-06-14 19:52:26  January  \n",
       "2018-01-26  97.105.19.61  2018-01-08 13:59:10  2018-01-08 13:59:10  January  "
      ]
     },
     "execution_count": 34,
     "metadata": {},
     "output_type": "execute_result"
    }
   ],
   "source": [
    "df.head()"
   ]
  },
  {
   "cell_type": "code",
   "execution_count": 35,
   "id": "bdf1df3a",
   "metadata": {},
   "outputs": [],
   "source": [
    "df.end_date = pd.to_datetime(df.end_date)"
   ]
  },
  {
   "cell_type": "code",
   "execution_count": 36,
   "id": "767f9ece",
   "metadata": {},
   "outputs": [
    {
     "data": {
      "text/plain": [
       "<matplotlib.collections.PathCollection at 0x1607b1df0>"
      ]
     },
     "execution_count": 36,
     "metadata": {},
     "output_type": "execute_result"
    },
    {
     "data": {
      "image/png": "[encoded data removed]",
      "text/plain": [
       "<Figure size 720x504 with 1 Axes>"
      ]
     },
     "metadata": {
      "needs_background": "light"
     },
     "output_type": "display_data"
    }
   ],
   "source": [
    "plt.figure(figsize=(10, 7))\n",
    "plt.scatter(df.start_date, df.end_date)"
   ]
  },
  {
   "cell_type": "code",
   "execution_count": 44,
   "id": "7a628d85",
   "metadata": {
    "scrolled": false
   },
   "outputs": [],
   "source": [
    "def one_user_df_prep(df, user):\n",
    "    '''\n",
    "    This function returns a dataframe consisting of data for only a single defined user\n",
    "    '''\n",
    "    df = df[df.user_id == user]\n",
    "    df.date = pd.to_datetime(df.date)\n",
    "    df = df.set_index(df.date)\n",
    "    pages_one_user = df['path'].resample('d').count()\n",
    "    return pages_one_user"
   ]
  },
  {
   "cell_type": "code",
   "execution_count": 45,
   "id": "d360dea7",
   "metadata": {},
   "outputs": [],
   "source": [
    "def compute_pct_b(pages_one_user, span, weight, user):\n",
    "    '''\n",
    "    This function adds the %b of a bollinger band range for the page views of a single user's log activity\n",
    "    '''\n",
    "    # Calculate upper and lower bollinger band\n",
    "    midband = pages_one_user.ewm(span=span).mean()\n",
    "    stdev = pages_one_user.ewm(span=span).std()\n",
    "    ub = midband + stdev*weight\n",
    "    lb = midband - stdev*weight\n",
    "    \n",
    "    # Add upper and lower band values to dataframe\n",
    "    bb = pd.concat([ub, lb], axis=1)\n",
    "    \n",
    "    # Combine all data into a single dataframe\n",
    "    my_df = pd.concat([pages_one_user, midband, bb], axis=1)\n",
    "    my_df.columns = ['pages_one_user', 'midband', 'ub', 'lb']\n",
    "    \n",
    "    # Calculate percent b and relevant user id to dataframe\n",
    "    my_df['pct_b'] = (my_df['pages_one_user'] - my_df['lb'])/(my_df['ub'] - my_df['lb'])\n",
    "    my_df['user_id'] = user\n",
    "    return my_df"
   ]
  },
  {
   "cell_type": "code",
   "execution_count": 46,
   "id": "8774e1c8",
   "metadata": {},
   "outputs": [],
   "source": [
    "def plot_bands(my_df, user):\n",
    "    '''\n",
    "    This function plots the bolliger bands of the page views for a single user\n",
    "    '''\n",
    "    fig, ax = plt.subplots(figsize=(12,8))\n",
    "    ax.plot(my_df.index, my_df.pages_one_user, label='Number of Pages, User: '+str(user))\n",
    "    ax.plot(my_df.index, my_df.midband, label = 'EMA/midband')\n",
    "    ax.plot(my_df.index, my_df.ub, label = 'Upper Band')\n",
    "    ax.plot(my_df.index, my_df.lb, label = 'Lower Band')\n",
    "    ax.legend(loc='best')\n",
    "    ax.set_ylabel('Number of Pages')\n",
    "    plt.show()"
   ]
  },
  {
   "cell_type": "code",
   "execution_count": 47,
   "id": "8319b419",
   "metadata": {},
   "outputs": [],
   "source": [
    "def find_anomalies(df, user, span, weight, plot=False):\n",
    "    '''\n",
    "    This function returns the records where a user's daily activity exceeded the upper limit of a bollinger band range\n",
    "    '''\n",
    "    \n",
    "    # Reduce dataframe to represent a single user\n",
    "    pages_one_user = one_user_df_prep(df, user)\n",
    "    \n",
    "    # Add bollinger band data to dataframe\n",
    "    my_df = compute_pct_b(pages_one_user, span, weight, user)\n",
    "    \n",
    "    # Plot data if requested (plot=True)\n",
    "    if plot:\n",
    "        plot_bands(my_df, user)\n",
    "    \n",
    "    # Return only records that sit outside of bollinger band upper limit\n",
    "    return my_df[my_df.pct_b>1]"
   ]
  },
  {
   "cell_type": "code",
   "execution_count": null,
   "id": "50bf6fa5",
   "metadata": {},
   "outputs": [],
   "source": []
  },
  {
   "cell_type": "code",
   "execution_count": null,
   "id": "083b7a0b",
   "metadata": {},
   "outputs": [],
   "source": []
  },
  {
   "cell_type": "markdown",
   "id": "a10fbf15",
   "metadata": {},
   "source": [
    "### Identify students who are accessing our curriculum pages beyond the end of their time at Codeup."
   ]
  },
  {
   "cell_type": "code",
   "execution_count": 48,
   "id": "22e474e6",
   "metadata": {},
   "outputs": [],
   "source": [
    "user = 1\n",
    "span = 30\n",
    "weight = 6\n",
    "user_df = find_anomalies(df, user, span, weight)\n",
    "\n",
    "anomalies = pd.DataFrame()\n",
    "user_df = find_anomalies(df, user, span, weight)\n",
    "anomalies = pd.concat([anomalies, user_df], axis=0)"
   ]
  },
  {
   "cell_type": "code",
   "execution_count": 49,
   "id": "6b0f6d75",
   "metadata": {},
   "outputs": [],
   "source": [
    "span = 30\n",
    "weight = 3.5\n",
    "\n",
    "anomalies = pd.DataFrame()\n",
    "for u in list(df.user_id.unique()):\n",
    "    user_df = find_anomalies(df, u, span, weight)\n",
    "    anomalies = pd.concat([anomalies, user_df], axis=0)"
   ]
  },
  {
   "cell_type": "code",
   "execution_count": 50,
   "id": "3db5307e",
   "metadata": {},
   "outputs": [
    {
     "data": {
      "text/html": [
       "<div>\n",
       "<style scoped>\n",
       "    .dataframe tbody tr th:only-of-type {\n",
       "        vertical-align: middle;\n",
       "    }\n",
       "\n",
       "    .dataframe tbody tr th {\n",
       "        vertical-align: top;\n",
       "    }\n",
       "\n",
       "    .dataframe thead th {\n",
       "        text-align: right;\n",
       "    }\n",
       "</style>\n",
       "<table border=\"1\" class=\"dataframe\">\n",
       "  <thead>\n",
       "    <tr style=\"text-align: right;\">\n",
       "      <th></th>\n",
       "      <th>pages_one_user</th>\n",
       "      <th>midband</th>\n",
       "      <th>ub</th>\n",
       "      <th>lb</th>\n",
       "      <th>pct_b</th>\n",
       "      <th>user_id</th>\n",
       "    </tr>\n",
       "    <tr>\n",
       "      <th>date</th>\n",
       "      <th></th>\n",
       "      <th></th>\n",
       "      <th></th>\n",
       "      <th></th>\n",
       "      <th></th>\n",
       "      <th></th>\n",
       "    </tr>\n",
       "  </thead>\n",
       "  <tbody>\n",
       "    <tr>\n",
       "      <th>2019-01-29</th>\n",
       "      <td>44</td>\n",
       "      <td>3.623334</td>\n",
       "      <td>42.081344</td>\n",
       "      <td>-34.834677</td>\n",
       "      <td>1.024945</td>\n",
       "      <td>1</td>\n",
       "    </tr>\n",
       "    <tr>\n",
       "      <th>2019-07-08</th>\n",
       "      <td>101</td>\n",
       "      <td>8.248768</td>\n",
       "      <td>96.507472</td>\n",
       "      <td>-80.009936</td>\n",
       "      <td>1.025451</td>\n",
       "      <td>1</td>\n",
       "    </tr>\n",
       "    <tr>\n",
       "      <th>2018-10-15</th>\n",
       "      <td>9</td>\n",
       "      <td>0.581421</td>\n",
       "      <td>8.457414</td>\n",
       "      <td>-7.294571</td>\n",
       "      <td>1.034446</td>\n",
       "      <td>3</td>\n",
       "    </tr>\n",
       "    <tr>\n",
       "      <th>2019-01-09</th>\n",
       "      <td>4</td>\n",
       "      <td>0.262470</td>\n",
       "      <td>3.802115</td>\n",
       "      <td>-3.277175</td>\n",
       "      <td>1.027953</td>\n",
       "      <td>3</td>\n",
       "    </tr>\n",
       "    <tr>\n",
       "      <th>2019-04-06</th>\n",
       "      <td>2</td>\n",
       "      <td>0.129825</td>\n",
       "      <td>1.889712</td>\n",
       "      <td>-1.630061</td>\n",
       "      <td>1.031334</td>\n",
       "      <td>3</td>\n",
       "    </tr>\n",
       "    <tr>\n",
       "      <th>...</th>\n",
       "      <td>...</td>\n",
       "      <td>...</td>\n",
       "      <td>...</td>\n",
       "      <td>...</td>\n",
       "      <td>...</td>\n",
       "      <td>...</td>\n",
       "    </tr>\n",
       "    <tr>\n",
       "      <th>2021-01-24</th>\n",
       "      <td>7</td>\n",
       "      <td>0.574393</td>\n",
       "      <td>6.857226</td>\n",
       "      <td>-5.708440</td>\n",
       "      <td>1.011362</td>\n",
       "      <td>817</td>\n",
       "    </tr>\n",
       "    <tr>\n",
       "      <th>2021-03-25</th>\n",
       "      <td>59</td>\n",
       "      <td>6.824556</td>\n",
       "      <td>58.415342</td>\n",
       "      <td>-44.766230</td>\n",
       "      <td>1.005666</td>\n",
       "      <td>843</td>\n",
       "    </tr>\n",
       "    <tr>\n",
       "      <th>2021-02-23</th>\n",
       "      <td>67</td>\n",
       "      <td>8.229409</td>\n",
       "      <td>66.322904</td>\n",
       "      <td>-49.864086</td>\n",
       "      <td>1.005828</td>\n",
       "      <td>851</td>\n",
       "    </tr>\n",
       "    <tr>\n",
       "      <th>2021-04-06</th>\n",
       "      <td>19</td>\n",
       "      <td>1.348943</td>\n",
       "      <td>18.056879</td>\n",
       "      <td>-15.358994</td>\n",
       "      <td>1.028224</td>\n",
       "      <td>854</td>\n",
       "    </tr>\n",
       "    <tr>\n",
       "      <th>2021-03-25</th>\n",
       "      <td>15</td>\n",
       "      <td>1.021925</td>\n",
       "      <td>14.239722</td>\n",
       "      <td>-12.195871</td>\n",
       "      <td>1.028760</td>\n",
       "      <td>859</td>\n",
       "    </tr>\n",
       "  </tbody>\n",
       "</table>\n",
       "<p>967 rows × 6 columns</p>\n",
       "</div>"
      ],
      "text/plain": [
       "            pages_one_user   midband         ub         lb     pct_b  user_id\n",
       "date                                                                         \n",
       "2019-01-29              44  3.623334  42.081344 -34.834677  1.024945        1\n",
       "2019-07-08             101  8.248768  96.507472 -80.009936  1.025451        1\n",
       "2018-10-15               9  0.581421   8.457414  -7.294571  1.034446        3\n",
       "2019-01-09               4  0.262470   3.802115  -3.277175  1.027953        3\n",
       "2019-04-06               2  0.129825   1.889712  -1.630061  1.031334        3\n",
       "...                    ...       ...        ...        ...       ...      ...\n",
       "2021-01-24               7  0.574393   6.857226  -5.708440  1.011362      817\n",
       "2021-03-25              59  6.824556  58.415342 -44.766230  1.005666      843\n",
       "2021-02-23              67  8.229409  66.322904 -49.864086  1.005828      851\n",
       "2021-04-06              19  1.348943  18.056879 -15.358994  1.028224      854\n",
       "2021-03-25              15  1.021925  14.239722 -12.195871  1.028760      859\n",
       "\n",
       "[967 rows x 6 columns]"
      ]
     },
     "execution_count": 50,
     "metadata": {},
     "output_type": "execute_result"
    }
   ],
   "source": [
    "anomalies"
   ]
  },
  {
   "cell_type": "code",
   "execution_count": 51,
   "id": "48cedfc9",
   "metadata": {},
   "outputs": [
    {
     "data": {
      "text/html": [
       "<div>\n",
       "<style scoped>\n",
       "    .dataframe tbody tr th:only-of-type {\n",
       "        vertical-align: middle;\n",
       "    }\n",
       "\n",
       "    .dataframe tbody tr th {\n",
       "        vertical-align: top;\n",
       "    }\n",
       "\n",
       "    .dataframe thead th {\n",
       "        text-align: right;\n",
       "    }\n",
       "</style>\n",
       "<table border=\"1\" class=\"dataframe\">\n",
       "  <thead>\n",
       "    <tr style=\"text-align: right;\">\n",
       "      <th></th>\n",
       "      <th>pages_one_user</th>\n",
       "      <th>midband</th>\n",
       "      <th>ub</th>\n",
       "      <th>lb</th>\n",
       "      <th>pct_b</th>\n",
       "      <th>user_id</th>\n",
       "    </tr>\n",
       "    <tr>\n",
       "      <th>date</th>\n",
       "      <th></th>\n",
       "      <th></th>\n",
       "      <th></th>\n",
       "      <th></th>\n",
       "      <th></th>\n",
       "      <th></th>\n",
       "    </tr>\n",
       "  </thead>\n",
       "  <tbody>\n",
       "    <tr>\n",
       "      <th>2019-03-03</th>\n",
       "      <td>272</td>\n",
       "      <td>24.721632</td>\n",
       "      <td>266.780128</td>\n",
       "      <td>-217.336864</td>\n",
       "      <td>1.010782</td>\n",
       "      <td>341</td>\n",
       "    </tr>\n",
       "    <tr>\n",
       "      <th>2018-06-02</th>\n",
       "      <td>198</td>\n",
       "      <td>16.484863</td>\n",
       "      <td>188.766965</td>\n",
       "      <td>-155.797239</td>\n",
       "      <td>1.026796</td>\n",
       "      <td>138</td>\n",
       "    </tr>\n",
       "    <tr>\n",
       "      <th>2019-12-19</th>\n",
       "      <td>192</td>\n",
       "      <td>19.601776</td>\n",
       "      <td>187.231096</td>\n",
       "      <td>-148.027544</td>\n",
       "      <td>1.014225</td>\n",
       "      <td>526</td>\n",
       "    </tr>\n",
       "    <tr>\n",
       "      <th>2020-10-16</th>\n",
       "      <td>179</td>\n",
       "      <td>20.158062</td>\n",
       "      <td>173.720239</td>\n",
       "      <td>-133.404115</td>\n",
       "      <td>1.017191</td>\n",
       "      <td>658</td>\n",
       "    </tr>\n",
       "    <tr>\n",
       "      <th>2020-06-05</th>\n",
       "      <td>165</td>\n",
       "      <td>20.035882</td>\n",
       "      <td>163.037501</td>\n",
       "      <td>-122.965736</td>\n",
       "      <td>1.006862</td>\n",
       "      <td>521</td>\n",
       "    </tr>\n",
       "    <tr>\n",
       "      <th>...</th>\n",
       "      <td>...</td>\n",
       "      <td>...</td>\n",
       "      <td>...</td>\n",
       "      <td>...</td>\n",
       "      <td>...</td>\n",
       "      <td>...</td>\n",
       "    </tr>\n",
       "    <tr>\n",
       "      <th>2019-03-11</th>\n",
       "      <td>1</td>\n",
       "      <td>0.064517</td>\n",
       "      <td>0.939111</td>\n",
       "      <td>-0.810077</td>\n",
       "      <td>1.034810</td>\n",
       "      <td>124</td>\n",
       "    </tr>\n",
       "    <tr>\n",
       "      <th>2019-03-20</th>\n",
       "      <td>1</td>\n",
       "      <td>0.064516</td>\n",
       "      <td>0.939061</td>\n",
       "      <td>-0.810029</td>\n",
       "      <td>1.034841</td>\n",
       "      <td>126</td>\n",
       "    </tr>\n",
       "    <tr>\n",
       "      <th>2020-11-21</th>\n",
       "      <td>1</td>\n",
       "      <td>0.065202</td>\n",
       "      <td>0.959398</td>\n",
       "      <td>-0.828994</td>\n",
       "      <td>1.022703</td>\n",
       "      <td>410</td>\n",
       "    </tr>\n",
       "    <tr>\n",
       "      <th>2020-12-07</th>\n",
       "      <td>1</td>\n",
       "      <td>0.064516</td>\n",
       "      <td>0.939061</td>\n",
       "      <td>-0.810028</td>\n",
       "      <td>1.034841</td>\n",
       "      <td>143</td>\n",
       "    </tr>\n",
       "    <tr>\n",
       "      <th>2020-07-13</th>\n",
       "      <td>1</td>\n",
       "      <td>0.064516</td>\n",
       "      <td>0.939061</td>\n",
       "      <td>-0.810028</td>\n",
       "      <td>1.034841</td>\n",
       "      <td>268</td>\n",
       "    </tr>\n",
       "  </tbody>\n",
       "</table>\n",
       "<p>967 rows × 6 columns</p>\n",
       "</div>"
      ],
      "text/plain": [
       "            pages_one_user    midband          ub          lb     pct_b  \\\n",
       "date                                                                      \n",
       "2019-03-03             272  24.721632  266.780128 -217.336864  1.010782   \n",
       "2018-06-02             198  16.484863  188.766965 -155.797239  1.026796   \n",
       "2019-12-19             192  19.601776  187.231096 -148.027544  1.014225   \n",
       "2020-10-16             179  20.158062  173.720239 -133.404115  1.017191   \n",
       "2020-06-05             165  20.035882  163.037501 -122.965736  1.006862   \n",
       "...                    ...        ...         ...         ...       ...   \n",
       "2019-03-11               1   0.064517    0.939111   -0.810077  1.034810   \n",
       "2019-03-20               1   0.064516    0.939061   -0.810029  1.034841   \n",
       "2020-11-21               1   0.065202    0.959398   -0.828994  1.022703   \n",
       "2020-12-07               1   0.064516    0.939061   -0.810028  1.034841   \n",
       "2020-07-13               1   0.064516    0.939061   -0.810028  1.034841   \n",
       "\n",
       "            user_id  \n",
       "date                 \n",
       "2019-03-03      341  \n",
       "2018-06-02      138  \n",
       "2019-12-19      526  \n",
       "2020-10-16      658  \n",
       "2020-06-05      521  \n",
       "...             ...  \n",
       "2019-03-11      124  \n",
       "2019-03-20      126  \n",
       "2020-11-21      410  \n",
       "2020-12-07      143  \n",
       "2020-07-13      268  \n",
       "\n",
       "[967 rows x 6 columns]"
      ]
     },
     "execution_count": 51,
     "metadata": {},
     "output_type": "execute_result"
    }
   ],
   "source": [
    "anomalies.sort_values(by='pages_one_user', ascending=False)"
   ]
  },
  {
   "cell_type": "code",
   "execution_count": 52,
   "id": "cd352f63",
   "metadata": {},
   "outputs": [],
   "source": [
    "df_341 = one_user_df_prep(df, 341)"
   ]
  },
  {
   "cell_type": "code",
   "execution_count": 53,
   "id": "063f0e0f",
   "metadata": {},
   "outputs": [
    {
     "data": {
      "text/plain": [
       "<AxesSubplot:xlabel='date'>"
      ]
     },
     "execution_count": 53,
     "metadata": {},
     "output_type": "execute_result"
    },
    {
     "data": {
      "image/png": "[encoded data removed]",
      "text/plain": [
       "<Figure size 1152x576 with 1 Axes>"
      ]
     },
     "metadata": {
      "needs_background": "light"
     },
     "output_type": "display_data"
    }
   ],
   "source": [
    "df_341.plot(figsize=(16,8))"
   ]
  },
  {
   "cell_type": "code",
   "execution_count": 54,
   "id": "07623d93",
   "metadata": {},
   "outputs": [],
   "source": [
    "df_146 = one_user_df_prep(df, 146)"
   ]
  },
  {
   "cell_type": "code",
   "execution_count": 55,
   "id": "4af54b8a",
   "metadata": {},
   "outputs": [
    {
     "data": {
      "text/plain": [
       "<AxesSubplot:xlabel='date'>"
      ]
     },
     "execution_count": 55,
     "metadata": {},
     "output_type": "execute_result"
    },
    {
     "data": {
      "image/png": "[encoded data removed]",
      "text/plain": [
       "<Figure size 1152x576 with 1 Axes>"
      ]
     },
     "metadata": {
      "needs_background": "light"
     },
     "output_type": "display_data"
    }
   ],
   "source": [
    "df_146.plot(figsize=(16,8))"
   ]
  },
  {
   "cell_type": "code",
   "execution_count": 56,
   "id": "9a88c304",
   "metadata": {
    "scrolled": true
   },
   "outputs": [
    {
     "data": {
      "text/plain": [
       "146    11\n",
       "80     11\n",
       "18     10\n",
       "291     9\n",
       "88      8\n",
       "       ..\n",
       "526     1\n",
       "527     1\n",
       "528     1\n",
       "533     1\n",
       "859     1\n",
       "Name: user_id, Length: 380, dtype: int64"
      ]
     },
     "execution_count": 56,
     "metadata": {},
     "output_type": "execute_result"
    }
   ],
   "source": [
    "anomalies.user_id.value_counts()"
   ]
  },
  {
   "cell_type": "code",
   "execution_count": 62,
   "id": "511c2b56",
   "metadata": {},
   "outputs": [
    {
     "data": {
      "text/plain": [
       "id                                           22\n",
       "name                                      Teddy\n",
       "start_date                  2018-01-08 00:00:00\n",
       "end_date                    2018-05-17 00:00:00\n",
       "program_id                                    2\n",
       "date                        2018-01-26 00:00:00\n",
       "time                                   11:47:38\n",
       "path          javascript-i/javascript-with-html\n",
       "user_id                                       5\n",
       "cohort_id                                  22.0\n",
       "ip                                 97.105.19.61\n",
       "created_at                  2018-01-08 13:59:10\n",
       "updated_at                  2018-01-08 13:59:10\n",
       "month                                   January\n",
       "Name: 2018-01-26 00:00:00, dtype: object"
      ]
     },
     "execution_count": 62,
     "metadata": {},
     "output_type": "execute_result"
    }
   ],
   "source": [
    "df.iloc[146]"
   ]
  },
  {
   "cell_type": "code",
   "execution_count": 57,
   "id": "38a790cc",
   "metadata": {},
   "outputs": [],
   "source": [
    "df_80 = one_user_df_prep(df, 80)\n",
    "\n",
    "#I think this one looks weird "
   ]
  },
  {
   "cell_type": "code",
   "execution_count": 58,
   "id": "601bd8c1",
   "metadata": {
    "scrolled": false
   },
   "outputs": [
    {
     "data": {
      "text/plain": [
       "<AxesSubplot:xlabel='date'>"
      ]
     },
     "execution_count": 58,
     "metadata": {},
     "output_type": "execute_result"
    },
    {
     "data": {
      "image/png": "[encoded data removed]",
      "text/plain": [
       "<Figure size 1152x576 with 1 Axes>"
      ]
     },
     "metadata": {
      "needs_background": "light"
     },
     "output_type": "display_data"
    }
   ],
   "source": [
    "df_80.plot(figsize=(16,8))"
   ]
  },
  {
   "cell_type": "code",
   "execution_count": 61,
   "id": "8d82d3ef",
   "metadata": {},
   "outputs": [
    {
     "data": {
      "text/plain": [
       "id                                    21\n",
       "name                             Sequoia\n",
       "start_date           2017-09-27 00:00:00\n",
       "end_date             2018-02-15 00:00:00\n",
       "program_id                             2\n",
       "date                 2018-01-26 00:00:00\n",
       "time                            11:12:04\n",
       "path          appendix/capstone-workbook\n",
       "user_id                               10\n",
       "cohort_id                           21.0\n",
       "ip                          97.105.19.61\n",
       "created_at           2017-09-27 20:22:41\n",
       "updated_at           2017-09-27 20:22:41\n",
       "month                            January\n",
       "Name: 2018-01-26 00:00:00, dtype: object"
      ]
     },
     "execution_count": 61,
     "metadata": {},
     "output_type": "execute_result"
    }
   ],
   "source": [
    "df.iloc[80]"
   ]
  },
  {
   "cell_type": "code",
   "execution_count": 59,
   "id": "3b0b5aeb",
   "metadata": {},
   "outputs": [
    {
     "data": {
      "text/plain": [
       "<AxesSubplot:xlabel='date'>"
      ]
     },
     "execution_count": 59,
     "metadata": {},
     "output_type": "execute_result"
    },
    {
     "data": {
      "image/png": "[encoded data removed]",
      "text/plain": [
       "<Figure size 1152x576 with 1 Axes>"
      ]
     },
     "metadata": {
      "needs_background": "light"
     },
     "output_type": "display_data"
    }
   ],
   "source": [
    "df_18 = one_user_df_prep(df, 18)\n",
    "df_18.plot(figsize=(16,8))\n",
    "\n",
    "#this kinda looks normal??"
   ]
  },
  {
   "cell_type": "code",
   "execution_count": 60,
   "id": "73e330c0",
   "metadata": {},
   "outputs": [
    {
     "data": {
      "text/plain": [
       "id                                22\n",
       "name                           Teddy\n",
       "start_date       2018-01-08 00:00:00\n",
       "end_date         2018-05-17 00:00:00\n",
       "program_id                         2\n",
       "date             2018-01-26 00:00:00\n",
       "time                        10:02:02\n",
       "path          javascript-i/functions\n",
       "user_id                            7\n",
       "cohort_id                       22.0\n",
       "ip                      97.105.19.61\n",
       "created_at       2018-01-08 13:59:10\n",
       "updated_at       2018-01-08 13:59:10\n",
       "month                        January\n",
       "Name: 2018-01-26 00:00:00, dtype: object"
      ]
     },
     "execution_count": 60,
     "metadata": {},
     "output_type": "execute_result"
    }
   ],
   "source": [
    "df.iloc[18]"
   ]
  },
  {
   "cell_type": "code",
   "execution_count": null,
   "id": "f1cc2774",
   "metadata": {},
   "outputs": [],
   "source": []
  },
  {
   "cell_type": "code",
   "execution_count": null,
   "id": "1499927e",
   "metadata": {},
   "outputs": [],
   "source": []
  },
  {
   "cell_type": "code",
   "execution_count": null,
   "id": "b07503c2",
   "metadata": {},
   "outputs": [],
   "source": []
  },
  {
   "cell_type": "code",
   "execution_count": null,
   "id": "f520c285",
   "metadata": {},
   "outputs": [],
   "source": []
  },
  {
   "cell_type": "code",
   "execution_count": null,
   "id": "57f5dcda",
   "metadata": {},
   "outputs": [],
   "source": []
  },
  {
   "cell_type": "code",
   "execution_count": null,
   "id": "7c29f8ba",
   "metadata": {},
   "outputs": [],
   "source": []
  },
  {
   "cell_type": "markdown",
   "id": "689adeac",
   "metadata": {},
   "source": [
    "### Identify students who present anomalous activity using the Bollinger Band method, but reduce K to 2."
   ]
  },
  {
   "cell_type": "code",
   "execution_count": null,
   "id": "520baeec",
   "metadata": {},
   "outputs": [],
   "source": []
  },
  {
   "cell_type": "code",
   "execution_count": null,
   "id": "cb24e243",
   "metadata": {},
   "outputs": [],
   "source": []
  },
  {
   "cell_type": "code",
   "execution_count": null,
   "id": "c12cd325",
   "metadata": {},
   "outputs": [],
   "source": []
  },
  {
   "cell_type": "markdown",
   "id": "18cc7e9c",
   "metadata": {},
   "source": [
    "### Plot the access activity of these students."
   ]
  },
  {
   "cell_type": "code",
   "execution_count": null,
   "id": "93ac498f",
   "metadata": {},
   "outputs": [],
   "source": []
  },
  {
   "cell_type": "code",
   "execution_count": null,
   "id": "2cc280a8",
   "metadata": {},
   "outputs": [],
   "source": []
  },
  {
   "cell_type": "code",
   "execution_count": null,
   "id": "fe4ab935",
   "metadata": {},
   "outputs": [],
   "source": []
  },
  {
   "cell_type": "code",
   "execution_count": null,
   "id": "8748a995",
   "metadata": {},
   "outputs": [],
   "source": []
  },
  {
   "cell_type": "code",
   "execution_count": null,
   "id": "47bdeed5",
   "metadata": {},
   "outputs": [],
   "source": []
  }
 ],
 "metadata": {
  "kernelspec": {
   "display_name": "Python 3 (ipykernel)",
   "language": "python",
   "name": "python3"
  },
  "language_info": {
   "codemirror_mode": {
    "name": "ipython",
    "version": 3
   },
   "file_extension": ".py",
   "mimetype": "text/x-python",
   "name": "python",
   "nbconvert_exporter": "python",
   "pygments_lexer": "ipython3",
   "version": "3.9.12"
  }
 },
 "nbformat": 4,
 "nbformat_minor": 5
}
